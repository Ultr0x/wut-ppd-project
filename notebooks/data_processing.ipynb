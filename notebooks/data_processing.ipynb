{
 "cells": [
  {
   "cell_type": "markdown",
   "metadata": {},
   "source": [
    "### Things to do\n",
    "#### General Notes\n",
    "- `airline_sentiment` and possibly `airline_sentiment_confidence` are target columns (the latter cannot be in traning data)\n",
    "- Remove instance of `\"@airline\"` tags from text \n",
    "\n",
    "####  How to handle each column\n",
    "**Numerical Columns**\n",
    "- `negativereason_confidence` -- fill missing data with 0\n",
    "- `retweet_count` -- remove, almost 100% is just 0\n",
    "\n",
    "**Categorical Columns**\n",
    "- `negativereason` -- one hot encode top K reasons +1 column for \"other\"\n",
    "- `airline` -- remove or one hot encode with \"other\" column\n",
    "- `airline_sentiment_gold` -- remove, almost 100% missing data\n",
    "- `name` -- remove, unique data\n",
    "- `negative_reason_gold` -- remove, almost 100% missing data\n",
    "- `tweet_location` -- remove or one hot encode with \"other\" column\n",
    "\n",
    "**Other Columns**\n",
    "- `tweet_coord` -- remove, almost 100% missing data\n",
    "- `user_timezone` -- remove, a lot of missing and correlates with location\n",
    "- `tweet_created` -- convert to columns: day of year (sin/cos), day of week, time of day (sin/cos)\n",
    "- `text` -- sklearn.feature_extraction.text -> CountVectorizer (?)\n"
   ]
  },
  {
   "cell_type": "code",
   "execution_count": 1,
   "metadata": {},
   "outputs": [],
   "source": [
    "import sys\n",
    "sys.path.append('..')"
   ]
  },
  {
   "cell_type": "code",
   "execution_count": 2,
   "metadata": {},
   "outputs": [],
   "source": [
    "import pandas as pd\n",
    "import numpy as np\n",
    "\n",
    "from sklearn.model_selection import train_test_split\n",
    "from sklearn.pipeline import Pipeline\n",
    "from sklearn.impute import SimpleImputer\n",
    "from sklearn.compose import ColumnTransformer\n",
    "from sklearn.preprocessing import OneHotEncoder\n",
    "\n",
    "from src.transformers import *"
   ]
  },
  {
   "cell_type": "code",
   "execution_count": 3,
   "metadata": {},
   "outputs": [],
   "source": [
    "def load_data():\n",
    "    df = pd.read_csv('../data/Tweets.csv')\n",
    "    df = df.drop(columns=['tweet_id'])\n",
    "\n",
    "    df_train, df_test = train_test_split(df, test_size=0.1, stratify=df[['airline_sentiment']], random_state=0)\n",
    "\n",
    "    X_train = df_train.drop(columns=['airline_sentiment', 'airline_sentiment_confidence'])\n",
    "    y_train = df_train[['airline_sentiment']]\n",
    "\n",
    "    X_test = df_test.drop(columns=['airline_sentiment', 'airline_sentiment_confidence'])\n",
    "    y_test = df_test[['airline_sentiment']]\n",
    "\n",
    "    return X_train, y_train, X_test, y_test"
   ]
  },
  {
   "cell_type": "code",
   "execution_count": 4,
   "metadata": {},
   "outputs": [],
   "source": [
    "X_train, y_train, X_test, y_test = load_data()"
   ]
  },
  {
   "cell_type": "code",
   "execution_count": 5,
   "metadata": {},
   "outputs": [],
   "source": [
    "columns_to_drop = ['retweet_count', 'airline_sentiment_gold', 'negativereason_gold', 'tweet_coord', 'name', 'user_timezone']\n",
    "columns_to_fill_zero = ['negativereason_confidence']\n",
    "columns_to_fill_unknown = ['negativereason', 'tweet_location']\n",
    "columns_to_ohe = ['negativereason', 'airline', 'tweet_location']\n",
    "\n",
    "column_order_after_transform = \\\n",
    "    columns_to_fill_zero \\\n",
    "    + columns_to_fill_unknown \\\n",
    "    + ['airline', 'text', 'tweet_created']\n",
    "column_idx = lambda c : column_order_after_transform.index(c)\n",
    "\n",
    "preprocessor = Pipeline(steps=[\n",
    "    ('drop', DropColumnTransformer(columns_to_drop)),\n",
    "    ('fill_missing', \n",
    "        ColumnTransformer(\n",
    "            transformers=[\n",
    "                ('fill_zero', SimpleImputer(strategy='constant', fill_value=0), columns_to_fill_zero),\n",
    "                ('fill_other', SimpleImputer(strategy='constant', fill_value='Unknown'), columns_to_fill_unknown),\n",
    "                \n",
    "            ], \n",
    "            remainder='passthrough')),\n",
    "    ('encode', ColumnTransformer(transformers=[\n",
    "        ('ohe', OneHotEncoder(\n",
    "            handle_unknown='infrequent_if_exist', \n",
    "            max_categories=3, \n",
    "            sparse_output=False), \n",
    "            list(map(column_idx, columns_to_ohe))),\n",
    "        ('time', TimeTransformer(), list(map(column_idx, ['tweet_created']))),\n",
    "        ('text', TextTransformer(), list(map(column_idx, ['text'])))\n",
    "    ],\n",
    "    remainder='passthrough'))\n",
    "])"
   ]
  },
  {
   "cell_type": "code",
   "execution_count": 6,
   "metadata": {},
   "outputs": [
    {
     "name": "stdout",
     "output_type": "stream",
     "text": [
      "[['@SouthwestAir when are you releasing your flights for September? Just found out you fly direct lbb to las! So excited! #tripofalifetime']\n",
      " ['@USAirways can you help us figure out our correct six digit confirmation number?']\n",
      " [\"@AmericanAir I paid extra $ for my seat &amp; the monitor didn't work from on AA111. How about a refund on the seat? Conf #: MDBEEI, McMullen\"]\n",
      " ...\n",
      " ['@USAirways despite mechanical issues and many delays followed by a Cancelled Flightlation, still getting to Vegas thanks to great gate agents!']\n",
      " ['@SouthwestAir Thx Ops Agt Rich Westagard n Flight Att. Nancy @ DEN Airport.Held flight 1027 n even saved seat 4 Bus Select #CustomersFirst!']\n",
      " ['@united Your social listening capabilities are awful if this is the reply for the context in which you were mentioned @stevelord212']]\n"
     ]
    }
   ],
   "source": [
    "X = preprocessor.fit_transform(X_train)"
   ]
  },
  {
   "cell_type": "code",
   "execution_count": 7,
   "metadata": {},
   "outputs": [],
   "source": [
    "new_columns = preprocessor[1:].get_feature_names_out()\n",
    "df = pd.DataFrame(X, columns=new_columns)\n",
    "df"
   ]
  }
 ],
 "metadata": {
  "kernelspec": {
   "display_name": "Python 3",
   "language": "python",
   "name": "python3"
  },
  "language_info": {
   "codemirror_mode": {
    "name": "ipython",
    "version": 3
   },
   "file_extension": ".py",
   "mimetype": "text/x-python",
   "name": "python",
   "nbconvert_exporter": "python",
   "pygments_lexer": "ipython3",
   "version": "3.11.2"
  }
 },
 "nbformat": 4,
 "nbformat_minor": 2
}
