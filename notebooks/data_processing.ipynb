{
 "cells": [
  {
   "cell_type": "markdown",
   "metadata": {},
   "source": [
    "### Things to do\n",
    "#### General Notes\n",
    "- `airline_sentiment` and possibly `airline_sentiment_confidence` are target columns (the latter cannot be in traning data)\n",
    "- Remove instance of `\"@airline\"` tags from text \n",
    "\n",
    "####  How to handle each column\n",
    "**Numerical Columns**\n",
    "- `negativereason_confidence` -- fill missing data with 0\n",
    "- `retweet_count` -- remove, almost 100% is just 0\n",
    "\n",
    "**Categorical Columns**\n",
    "- `negativereason` -- one hot encode top K reasons +1 column for \"other\"\n",
    "- `airline` -- remove or one hot encode with \"other\" column\n",
    "- `airline_sentiment_gold` -- remove, almost 100% missing data\n",
    "- `name` -- remove, unique data\n",
    "- `negative_reason_gold` -- remove, almost 100% missing data\n",
    "- `tweet_location` -- remove or one hot encode with \"other\" column\n",
    "\n",
    "**Other Columns**\n",
    "- `tweet_coord` -- remove, almost 100% missing data\n",
    "- `user_timezone` -- remove or one hot encode with \"other\" column\n",
    "- `tweet_created` -- convert to columns: day of year (sin/cos), day of week, time of day (sin/cos)\n",
    "- `text` -- sklearn.feature_extraction.text -> CountVectorizer (?)\n"
   ]
  },
  {
   "cell_type": "code",
   "execution_count": 29,
   "metadata": {},
   "outputs": [],
   "source": [
    "import sys\n",
    "sys.path.append('..')"
   ]
  },
  {
   "cell_type": "code",
   "execution_count": 30,
   "metadata": {},
   "outputs": [],
   "source": [
    "import pandas as pd\n",
    "\n",
    "from sklearn.model_selection import train_test_split\n",
    "from sklearn.pipeline import Pipeline\n",
    "\n",
    "from src.transformers import *"
   ]
  },
  {
   "cell_type": "code",
   "execution_count": 22,
   "metadata": {},
   "outputs": [],
   "source": [
    "def load_data():\n",
    "    df = pd.read_csv('../data/Tweets.csv')\n",
    "    df = df.drop(columns=['tweet_id'])\n",
    "\n",
    "    df_train, df_test = train_test_split(df, test_size=0.1, stratify=df[['airline_sentiment']], random_state=0)\n",
    "\n",
    "    X_train = df_train.drop(columns=['airline_sentiment', 'airline_sentiment_confidence'])\n",
    "    y_train = df_train[['airline_sentiment']]\n",
    "\n",
    "    X_test = df_test.drop(columns=['airline_sentiment', 'airline_sentiment_confidence'])\n",
    "    y_test = df_test[['airline_sentiment']]\n",
    "\n",
    "    return X_train, y_train, X_test, y_test"
   ]
  },
  {
   "cell_type": "code",
   "execution_count": 23,
   "metadata": {},
   "outputs": [],
   "source": [
    "X_train, y_train, X_test, y_test = load_data()"
   ]
  },
  {
   "cell_type": "code",
   "execution_count": 31,
   "metadata": {},
   "outputs": [],
   "source": [
    "columns_to_drop = ['retweet_count', 'airline_sentiment_gold', 'negative_reason_gold', 'tweet_coord']\n",
    "\n",
    "preprocessor = Pipeline(steps=[\n",
    "    ('missing_dropper', DropColumnTransformer(columns_to_drop))\n",
    "])"
   ]
  }
 ],
 "metadata": {
  "kernelspec": {
   "display_name": "Python 3",
   "language": "python",
   "name": "python3"
  },
  "language_info": {
   "codemirror_mode": {
    "name": "ipython",
    "version": 3
   },
   "file_extension": ".py",
   "mimetype": "text/x-python",
   "name": "python",
   "nbconvert_exporter": "python",
   "pygments_lexer": "ipython3",
   "version": "3.11.2"
  }
 },
 "nbformat": 4,
 "nbformat_minor": 2
}
