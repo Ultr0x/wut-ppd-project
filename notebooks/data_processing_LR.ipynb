{
  "cells": [
    {
      "cell_type": "markdown",
      "metadata": {
        "id": "hHDoAp_VS4en"
      },
      "source": [
        "#### General Notes\n",
        "- `airline_sentiment` and possibly `airline_sentiment_confidence` are target columns (the latter cannot be in training data)\n",
        "- Remove instances of `\"@airline\"` tags from text\n",
        "\n",
        "#### How to handle each column\n",
        "**Numerical Columns**\n",
        "- `negativereason_confidence` -- fill missing data with 0\n",
        "- `retweet_count` -- remove, almost 100% is just 0\n",
        "\n",
        "**Categorical Columns**\n",
        "- `negativereason` -- one-hot encode top K reasons +1 column for \"other\"\n",
        "- `airline` -- remove or one-hot encode with \"other\" column\n",
        "- `airline_sentiment_gold` -- remove, almost 100% missing data\n",
        "- `name` -- remove, unique data\n",
        "- `negative_reason_gold` -- remove, almost 100% missing data\n",
        "- `tweet_location` -- remove or one-hot encode with \"other\" column\n",
        "\n",
        "**Other Columns**\n",
        "- `tweet_coord` -- remove, almost 100% missing data\n",
        "- `user_timezone` -- remove, a lot of missing and correlates with location\n",
        "- `tweet_created` -- convert to columns: day of year (sin/cos), day of week, time of day (sin/cos)\n",
        "- `text` -- sklearn.feature_extraction.text -> CountVectorizer (?)\n"
      ]
    },
    {
      "cell_type": "markdown",
      "source": [
        "### **Libraries and helper functions**"
      ],
      "metadata": {
        "id": "v1A--vCJGG90"
      }
    },
    {
      "cell_type": "code",
      "execution_count": 1,
      "metadata": {
        "id": "SOM8RDrsS4ep"
      },
      "outputs": [],
      "source": [
        "# Add parent directory to system path for module imports\n",
        "import sys\n",
        "sys.path.append('..')"
      ]
    },
    {
      "cell_type": "code",
      "execution_count": 17,
      "metadata": {
        "id": "DDZed-iOS4eq"
      },
      "outputs": [],
      "source": [
        "import pandas as pd\n",
        "import numpy as np\n",
        "\n",
        "from sklearn.model_selection import train_test_split\n",
        "from sklearn.pipeline import Pipeline\n",
        "from sklearn.impute import SimpleImputer\n",
        "from sklearn.compose import ColumnTransformer\n",
        "from sklearn.preprocessing import OneHotEncoder\n",
        "\n",
        "from transformers import *"
      ]
    },
    {
      "cell_type": "code",
      "source": [
        "# Import classifiers and label encoder\n",
        "from sklearn.svm import SVC\n",
        "from sklearn.tree import DecisionTreeClassifier\n",
        "from sklearn.ensemble import RandomForestClassifier\n",
        "from sklearn.linear_model import LogisticRegression\n",
        "from xgboost import XGBClassifier\n",
        "\n",
        "from sklearn.preprocessing import LabelEncoder"
      ],
      "metadata": {
        "id": "Brub2PBWEPc7"
      },
      "execution_count": 15,
      "outputs": []
    },
    {
      "cell_type": "code",
      "source": [
        "# Importing features for model evaluation\n",
        "from sklearn.metrics import accuracy_score, precision_score, recall_score, f1_score, confusion_matrix, classification_report, roc_auc_score\n",
        "import matplotlib.pyplot as plt\n",
        "import seaborn as sns"
      ],
      "metadata": {
        "id": "nzrTKBUCEx7X"
      },
      "execution_count": 16,
      "outputs": []
    },
    {
      "cell_type": "code",
      "execution_count": 5,
      "metadata": {
        "id": "OVMFk1fWS4er"
      },
      "outputs": [],
      "source": [
        "# Function to load and split the data\n",
        "def load_data():\n",
        "    df = pd.read_csv('/content/Tweets.csv')\n",
        "    df = df.drop(columns=['tweet_id'])\n",
        "    df_train, df_test = train_test_split(df, test_size=0.1, stratify=df[['airline_sentiment']], random_state=0)\n",
        "\n",
        "    X_train = df_train.drop(columns=['airline_sentiment', 'airline_sentiment_confidence'])\n",
        "    y_train = df_train[['airline_sentiment']]\n",
        "\n",
        "    X_test = df_test.drop(columns=['airline_sentiment', 'airline_sentiment_confidence'])\n",
        "    y_test = df_test[['airline_sentiment']]\n",
        "\n",
        "    return X_train, y_train, X_test, y_test"
      ]
    },
    {
      "cell_type": "markdown",
      "source": [
        "### **Pipeline**"
      ],
      "metadata": {
        "id": "GLNsrYbQEVP1"
      }
    },
    {
      "cell_type": "code",
      "execution_count": 12,
      "metadata": {
        "id": "QKQgzeS9S4es"
      },
      "outputs": [],
      "source": [
        "# Define columns for different preprocessing steps\n",
        "columns_to_drop = ['retweet_count', 'airline_sentiment_gold', 'negativereason_gold', 'tweet_coord', 'name', 'user_timezone']\n",
        "columns_to_fill_zero = ['negativereason_confidence']\n",
        "columns_to_fill_unknown = ['negativereason', 'tweet_location']\n",
        "columns_to_ohe = ['negativereason', 'airline', 'tweet_location']\n",
        "\n",
        "# Define the order of columns after transformation\n",
        "column_order_after_transform = \\\n",
        "    columns_to_fill_zero + columns_to_fill_unknown + ['airline', 'text', 'tweet_created']\n",
        "column_idx = lambda c: column_order_after_transform.index(c)\n",
        "\n",
        "# Create a preprocessing pipeline\n",
        "preprocessor = Pipeline(steps=[\n",
        "    # Step 1: Drop unnecessary columns\n",
        "    ('drop', DropColumnTransformer(columns_to_drop)),\n",
        "    # Step 2: Fill missing values\n",
        "    ('fill_missing',\n",
        "        ColumnTransformer(\n",
        "            transformers=[\n",
        "                ('fill_zero', SimpleImputer(strategy='constant', fill_value=0), columns_to_fill_zero),\n",
        "                ('fill_other', SimpleImputer(strategy='constant', fill_value='Unknown'), columns_to_fill_unknown),\n",
        "            ],\n",
        "            remainder='passthrough')),\n",
        "    # Step 3: Encode categorical variables and transform other features\n",
        "    ('encode', ColumnTransformer(transformers=[\n",
        "        ('ohe', OneHotEncoder(\n",
        "            handle_unknown='infrequent_if_exist',\n",
        "            max_categories=10,\n",
        "            sparse_output=False),\n",
        "            list(map(column_idx, columns_to_ohe))),\n",
        "        ('time', TimeTransformer(), list(map(column_idx, ['tweet_created']))),\n",
        "        ('text', TextTransformer(), list(map(column_idx, ['text'])))\n",
        "    ],\n",
        "    remainder='passthrough'))\n",
        "])"
      ]
    },
    {
      "cell_type": "markdown",
      "source": [
        "### **Data preparation**"
      ],
      "metadata": {
        "id": "YwZSx07yEhAf"
      }
    },
    {
      "cell_type": "code",
      "execution_count": 13,
      "metadata": {
        "id": "2whu7rffS4et",
        "colab": {
          "base_uri": "https://localhost:8080/"
        },
        "outputId": "63b8bd9b-faf5-490c-9081-7d184beb18be"
      },
      "outputs": [
        {
          "output_type": "stream",
          "name": "stderr",
          "text": [
            "/usr/local/lib/python3.10/dist-packages/sklearn/preprocessing/_label.py:114: DataConversionWarning: A column-vector y was passed when a 1d array was expected. Please change the shape of y to (n_samples, ), for example using ravel().\n",
            "  y = column_or_1d(y, warn=True)\n",
            "/usr/local/lib/python3.10/dist-packages/sklearn/preprocessing/_label.py:132: DataConversionWarning: A column-vector y was passed when a 1d array was expected. Please change the shape of y to (n_samples, ), for example using ravel().\n",
            "  y = column_or_1d(y, dtype=self.classes_.dtype, warn=True)\n"
          ]
        }
      ],
      "source": [
        "# Load the data\n",
        "X_train, y_train, X_test, y_test = load_data()\n",
        "\n",
        "# Apply preprocessing to the training data\n",
        "X_train_processed = preprocessor.fit_transform(X_train)\n",
        "X_test_processed = preprocessor.transform(X_test)\n",
        "\n",
        "# Encode target labels\n",
        "le = LabelEncoder()\n",
        "y_train_processed = le.fit_transform(y_train)\n",
        "y_test_processed = le.transform(y_test)"
      ]
    },
    {
      "cell_type": "markdown",
      "source": [
        "### **Classifiers**"
      ],
      "metadata": {
        "id": "YQUf7CCw9wt8"
      }
    },
    {
      "cell_type": "code",
      "source": [
        "# Initializing the classifier (XGBClassifier(n_estimators=100) || LogisticRegression(max_iter=1000))\n",
        "clf = LogisticRegression(max_iter=1000)\n",
        "\n",
        "# Training the classifier on preprocessed training data\n",
        "clf.fit(X_train_processed, y_train_processed)\n",
        "\n",
        "# Predicting on the training data\n",
        "y_train_pred = clf.predict(X_train_processed)\n",
        "\n",
        "# Calculating accuracy on the training data\n",
        "train_accuracy = accuracy_score(y_train_processed, y_train_pred)\n",
        "print(f\"Accuracy on training data: {train_accuracy:.4f}\")\n",
        "\n",
        "# Predicting on the test data\n",
        "y_test_pred = clf.predict(X_test_processed)\n",
        "\n",
        "# Calculating accuracy on the test data\n",
        "test_accuracy = accuracy_score(y_test_processed, y_test_pred)\n",
        "print(f\"Accuracy on test data: {test_accuracy:.4f}\")\n",
        "\n",
        "# Generating a classification report\n",
        "print(\"\\nClassification report for the test data:\")\n",
        "print(classification_report(y_test_processed, y_test_pred, target_names=le.classes_))\n",
        "\n",
        "# Generating a confusion matrix\n",
        "cm = confusion_matrix(y_test_processed, y_test_pred)\n",
        "\n",
        "# Visualizing the confusion matrix using seaborn\n",
        "plt.figure(figsize=(8,6))\n",
        "sns.heatmap(cm, annot=True, fmt='d', cmap='Blues',\n",
        "            xticklabels=le.classes_,\n",
        "            yticklabels=le.classes_)\n",
        "plt.ylabel('Actual Labels')\n",
        "plt.xlabel('Predicted Labels')\n",
        "plt.title('Confusion Matrix')\n",
        "plt.show()\n",
        "\n",
        "# Calculating AUC for multi-class classification\n",
        "y_test_prob = clf.predict_proba(X_test_processed)\n",
        "\n",
        "auc = roc_auc_score(y_test_processed, y_test_prob, multi_class='ovr')\n",
        "print(f\"AUC (One-vs-Rest) on test data: {auc:.4f}\")\n"
      ],
      "metadata": {
        "colab": {
          "base_uri": "https://localhost:8080/",
          "height": 824
        },
        "id": "VKlG7LRn9xZ6",
        "outputId": "4893697b-a92a-4d74-da54-fb7dd36ad952"
      },
      "execution_count": 18,
      "outputs": [
        {
          "output_type": "stream",
          "name": "stdout",
          "text": [
            "Accuracy on training data: 0.9300\n",
            "Accuracy on test data: 0.9167\n",
            "\n",
            "Classification report for the test data:\n",
            "              precision    recall  f1-score   support\n",
            "\n",
            "    negative       1.00      1.00      1.00       918\n",
            "     neutral       0.77      0.86      0.81       310\n",
            "    positive       0.79      0.66      0.72       236\n",
            "\n",
            "    accuracy                           0.92      1464\n",
            "   macro avg       0.85      0.84      0.84      1464\n",
            "weighted avg       0.92      0.92      0.92      1464\n",
            "\n"
          ]
        },
        {
          "output_type": "display_data",
          "data": {
            "text/plain": [
              "<Figure size 800x600 with 2 Axes>"
            ],
            "image/png": "[encoded data removed]"
          },
          "metadata": {}
        },
        {
          "output_type": "stream",
          "name": "stdout",
          "text": [
            "AUC (One-vs-Rest) on test data: 0.9731\n"
          ]
        }
      ]
    }
  ],
  "metadata": {
    "kernelspec": {
      "display_name": "py310",
      "language": "python",
      "name": "python3"
    },
    "language_info": {
      "codemirror_mode": {
        "name": "ipython",
        "version": 3
      },
      "file_extension": ".py",
      "mimetype": "text/x-python",
      "name": "python",
      "nbconvert_exporter": "python",
      "pygments_lexer": "ipython3",
      "version": "3.10.12"
    },
    "colab": {
      "provenance": [],
      "collapsed_sections": [
        "v1A--vCJGG90",
        "GLNsrYbQEVP1",
        "YwZSx07yEhAf",
        "YQUf7CCw9wt8"
      ]
    }
  },
  "nbformat": 4,
  "nbformat_minor": 0
}